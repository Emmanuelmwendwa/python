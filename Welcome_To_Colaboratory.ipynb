{
  "cells": [
    {
      "cell_type": "markdown",
      "metadata": {
        "id": "view-in-github",
        "colab_type": "text"
      },
      "source": [
        "<a href=\"https://colab.research.google.com/github/Emmanuelmwendwa/python/blob/main/Welcome_To_Colaboratory.ipynb\" target=\"_parent\"><img src=\"https://colab.research.google.com/assets/colab-badge.svg\" alt=\"Open In Colab\"/></a>"
      ]
    },
    {
      "cell_type": "code",
      "source": [
        "# user_input.py\n",
        "\n",
        "# Ask user for their name\n",
        "name = input(\"What is your name? \")\n",
        "\n",
        "# Ask user for their age\n",
        "age = input(\"How old are you? \")\n",
        "\n",
        "# Ask user for their location\n",
        "location = input(\"Where do you live? \")\n",
        "\n",
        "# Print personalized message\n",
        "print(f\"Hello {name}, you are {age} years old and live in {location}.\")\n"
      ],
      "metadata": {
        "id": "gzXBy2lmAd3n",
        "outputId": "aae27a9f-d208-4f32-8890-08d9a9b7c38f",
        "colab": {
          "base_uri": "https://localhost:8080/"
        }
      },
      "execution_count": 4,
      "outputs": [
        {
          "output_type": "stream",
          "name": "stdout",
          "text": [
            "What is your name? Emmanuel Mwendwa\n",
            "How old are you? 23\n",
            "Where do you live? Eastleigh Section 3\n",
            "Hello Emmanuel Mwendwa, you are 23 years old and live in Eastleigh Section 3.\n"
          ]
        }
      ]
    }
  ],
  "metadata": {
    "colab": {
      "name": "Welcome To Colaboratory",
      "toc_visible": true,
      "provenance": [],
      "include_colab_link": true
    },
    "kernelspec": {
      "display_name": "Python 3",
      "name": "python3"
    }
  },
  "nbformat": 4,
  "nbformat_minor": 0
}